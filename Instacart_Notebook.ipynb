{
 "cells": [
  {
   "cell_type": "code",
   "execution_count": 1,
   "metadata": {},
   "outputs": [],
   "source": [
    "import collections\n",
    "import itertools\n",
    "import pathlib\n",
    "import random\n",
    "import sqlite3\n",
    "\n",
    "import matplotlib.pyplot as plt\n",
    "import numpy as np\n",
    "import pandas as pd\n",
    "pd.set_option('display.max_columns', None)\n",
    "import seaborn as sns\n",
    "from matplotlib.patches import Patch\n",
    "sns.set_context(\"talk\")"
   ]
  },
  {
   "cell_type": "code",
   "execution_count": 2,
   "metadata": {},
   "outputs": [],
   "source": [
    "db_path = pathlib.Path('instacart.db')\n",
    "\n",
    "def sql_data(statement):\n",
    "    conn = sqlite3.Connection(db_path)\n",
    "    table = pd.read_sql(statement, conn)\n",
    "    conn.close()\n",
    "    return table"
   ]
  },
  {
   "cell_type": "markdown",
   "metadata": {
    "tags": [],
    "toc-hr-collapsed": true
   },
   "source": [
    "# Customer Information Analysis"
   ]
  },
  {
   "cell_type": "markdown",
   "metadata": {},
   "source": [
    "## Total number of orders"
   ]
  },
  {
   "cell_type": "code",
   "execution_count": 3,
   "metadata": {},
   "outputs": [
    {
     "data": {
      "text/html": [
       "<div>\n",
       "<style scoped>\n",
       "    .dataframe tbody tr th:only-of-type {\n",
       "        vertical-align: middle;\n",
       "    }\n",
       "\n",
       "    .dataframe tbody tr th {\n",
       "        vertical-align: top;\n",
       "    }\n",
       "\n",
       "    .dataframe thead th {\n",
       "        text-align: right;\n",
       "    }\n",
       "</style>\n",
       "<table border=\"1\" class=\"dataframe\">\n",
       "  <thead>\n",
       "    <tr style=\"text-align: right;\">\n",
       "      <th></th>\n",
       "      <th>total orders</th>\n",
       "    </tr>\n",
       "    <tr>\n",
       "      <th>user_id</th>\n",
       "      <th></th>\n",
       "    </tr>\n",
       "  </thead>\n",
       "  <tbody>\n",
       "    <tr>\n",
       "      <th>1</th>\n",
       "      <td>10</td>\n",
       "    </tr>\n",
       "    <tr>\n",
       "      <th>2</th>\n",
       "      <td>14</td>\n",
       "    </tr>\n",
       "    <tr>\n",
       "      <th>3</th>\n",
       "      <td>12</td>\n",
       "    </tr>\n",
       "    <tr>\n",
       "      <th>4</th>\n",
       "      <td>5</td>\n",
       "    </tr>\n",
       "    <tr>\n",
       "      <th>5</th>\n",
       "      <td>4</td>\n",
       "    </tr>\n",
       "    <tr>\n",
       "      <th>...</th>\n",
       "      <td>...</td>\n",
       "    </tr>\n",
       "    <tr>\n",
       "      <th>206205</th>\n",
       "      <td>3</td>\n",
       "    </tr>\n",
       "    <tr>\n",
       "      <th>206206</th>\n",
       "      <td>67</td>\n",
       "    </tr>\n",
       "    <tr>\n",
       "      <th>206207</th>\n",
       "      <td>16</td>\n",
       "    </tr>\n",
       "    <tr>\n",
       "      <th>206208</th>\n",
       "      <td>49</td>\n",
       "    </tr>\n",
       "    <tr>\n",
       "      <th>206209</th>\n",
       "      <td>13</td>\n",
       "    </tr>\n",
       "  </tbody>\n",
       "</table>\n",
       "<p>206209 rows × 1 columns</p>\n",
       "</div>"
      ],
      "text/plain": [
       "         total orders\n",
       "user_id              \n",
       "1                  10\n",
       "2                  14\n",
       "3                  12\n",
       "4                   5\n",
       "5                   4\n",
       "...               ...\n",
       "206205              3\n",
       "206206             67\n",
       "206207             16\n",
       "206208             49\n",
       "206209             13\n",
       "\n",
       "[206209 rows x 1 columns]"
      ]
     },
     "execution_count": 3,
     "metadata": {},
     "output_type": "execute_result"
    }
   ],
   "source": [
    "statement = 'SELECT * from orders;'\n",
    "orders =sql_data(statement)\n",
    "Num_orders = orders.groupby([\"user_id\"]).agg({'order_id':\"count\"})\n",
    "Num_orders.columns = ['total orders']\n",
    "Num_orders"
   ]
  },
  {
   "cell_type": "code",
   "execution_count": 4,
   "metadata": {},
   "outputs": [
    {
     "data": {
      "text/html": [
       "<div>\n",
       "<style scoped>\n",
       "    .dataframe tbody tr th:only-of-type {\n",
       "        vertical-align: middle;\n",
       "    }\n",
       "\n",
       "    .dataframe tbody tr th {\n",
       "        vertical-align: top;\n",
       "    }\n",
       "\n",
       "    .dataframe thead th {\n",
       "        text-align: right;\n",
       "    }\n",
       "</style>\n",
       "<table border=\"1\" class=\"dataframe\">\n",
       "  <thead>\n",
       "    <tr style=\"text-align: right;\">\n",
       "      <th></th>\n",
       "      <th>total orders</th>\n",
       "    </tr>\n",
       "  </thead>\n",
       "  <tbody>\n",
       "    <tr>\n",
       "      <th>count</th>\n",
       "      <td>206209.000000</td>\n",
       "    </tr>\n",
       "    <tr>\n",
       "      <th>mean</th>\n",
       "      <td>15.590367</td>\n",
       "    </tr>\n",
       "    <tr>\n",
       "      <th>std</th>\n",
       "      <td>16.654774</td>\n",
       "    </tr>\n",
       "    <tr>\n",
       "      <th>min</th>\n",
       "      <td>3.000000</td>\n",
       "    </tr>\n",
       "    <tr>\n",
       "      <th>25%</th>\n",
       "      <td>5.000000</td>\n",
       "    </tr>\n",
       "    <tr>\n",
       "      <th>50%</th>\n",
       "      <td>9.000000</td>\n",
       "    </tr>\n",
       "    <tr>\n",
       "      <th>75%</th>\n",
       "      <td>19.000000</td>\n",
       "    </tr>\n",
       "    <tr>\n",
       "      <th>max</th>\n",
       "      <td>99.000000</td>\n",
       "    </tr>\n",
       "  </tbody>\n",
       "</table>\n",
       "</div>"
      ],
      "text/plain": [
       "        total orders\n",
       "count  206209.000000\n",
       "mean       15.590367\n",
       "std        16.654774\n",
       "min         3.000000\n",
       "25%         5.000000\n",
       "50%         9.000000\n",
       "75%        19.000000\n",
       "max        99.000000"
      ]
     },
     "execution_count": 4,
     "metadata": {},
     "output_type": "execute_result"
    }
   ],
   "source": [
    "Num_orders.describe()"
   ]
  },
  {
   "cell_type": "code",
   "execution_count": 5,
   "metadata": {},
   "outputs": [
    {
     "data": {
      "image/png": "[encoded data removed]",
      "text/plain": [
       "<Figure size 432x288 with 1 Axes>"
      ]
     },
     "metadata": {
      "needs_background": "light"
     },
     "output_type": "display_data"
    }
   ],
   "source": [
    "Num_orders.plot(kind='hist')\n",
    "plt.title(\"Distribution of Total Number Orders\")\n",
    "plt.show()"
   ]
  },
  {
   "cell_type": "markdown",
   "metadata": {},
   "source": [
    "## Avg number of items in order"
   ]
  },
  {
   "cell_type": "code",
   "execution_count": 6,
   "metadata": {},
   "outputs": [],
   "source": [
    "statement = 'SELECT user_id, o.order_id, product_id, reordered from orders o inner join order_details od on o.order_id=od.order_id;'\n",
    "user_items= sql_data(statement)"
   ]
  },
  {
   "cell_type": "code",
   "execution_count": null,
   "metadata": {},
   "outputs": [],
   "source": [
    "Num_items = user_items.groupby('user_id')['product_id'].count()\n",
    "Num_order = user_items.groupby('user_id')['order_id'].nunique()\n",
    "Q3 = pd.concat([Num_items,Num_order],axis=1)\n",
    "Q3['avg_items_in_order'] = round(Q3['product_id']/Q3['order_id'],1)\n",
    "Q3.drop(columns=['product_id','order_id'],inplace=True)\n",
    "Q3.head()"
   ]
  },
  {
   "cell_type": "code",
   "execution_count": null,
   "metadata": {},
   "outputs": [],
   "source": [
    "Q3.describe()"
   ]
  },
  {
   "cell_type": "code",
   "execution_count": null,
   "metadata": {},
   "outputs": [],
   "source": [
    "Q3.plot(kind='hist',bins=25)\n",
    "plt.title(\"Distribution of Avg Item Numbers in Orders\")\n",
    "plt.show()"
   ]
  },
  {
   "cell_type": "markdown",
   "metadata": {},
   "source": [
    "## Percentage of each days’ order"
   ]
  },
  {
   "cell_type": "code",
   "execution_count": null,
   "metadata": {},
   "outputs": [],
   "source": [
    "customer_dow=orders.groupby([\"user_id\",\"order_dow\"])['order_id'].count().reset_index()\n",
    "customer_dow['total']= customer_dow.groupby('user_id')['order_id'].transform('sum')\n",
    "customer_dow['proportion'] = customer_dow['order_id']/customer_dow['total']\n",
    "customer_dow=customer_dow.pivot(\n",
    "    index='user_id',\n",
    "    columns='order_dow',\n",
    "    values='proportion',\n",
    ")\n",
    "customer_dow = customer_dow.fillna(0)\n",
    "customer_dow.columns = ['Saturday','Sunday','Monday','Tuesday','Wednesday','Thursday','Friday']\n",
    "customer_dow.head()"
   ]
  },
  {
   "cell_type": "markdown",
   "metadata": {},
   "source": [
    "## Percentage of customer’s purchase time range\n",
    "(7am-12pm : morning; 12pm-5pm : afternoon; 5pm-10pm : evening; 10pm-7am : midnight)"
   ]
  },
  {
   "cell_type": "code",
   "execution_count": null,
   "metadata": {},
   "outputs": [],
   "source": [
    "def to_timeperiod(num):\n",
    "    if 12 > num >= 7:\n",
    "        return \"Morning\"\n",
    "    elif 17 > num >= 12:\n",
    "        return \"Afternoon\"\n",
    "    elif 22 > num >= 17:\n",
    "        return \"Evening\"\n",
    "    else:\n",
    "        return \"Midnight\"\n",
    "\n",
    "orders['period']= orders[\"order_hour_of_day\"].apply(to_timeperiod)\n",
    "\n",
    "order_period = orders.groupby([\"user_id\",\"period\"])['order_id'].count().reset_index()\n",
    "order_period['total']= order_period.groupby('user_id')['order_id'].transform('sum')\n",
    "order_period['proportion'] = order_period['order_id']/order_period['total']\n",
    "order_period=order_period.pivot(\n",
    "    index='user_id',\n",
    "    columns='period',\n",
    "    values='proportion')\n",
    "order_period = order_period.fillna(0)\n",
    "order_period"
   ]
  },
  {
   "cell_type": "markdown",
   "metadata": {},
   "source": [
    "## Order frequency (average how many days between each order)"
   ]
  },
  {
   "cell_type": "code",
   "execution_count": null,
   "metadata": {},
   "outputs": [],
   "source": [
    "order_freq = orders.groupby(\"user_id\").agg({\"days_since_prior_order\":\"mean\"})\n",
    "order_freq.columns=[\"avg_days_since_prior\"]\n",
    "order_freq"
   ]
  },
  {
   "cell_type": "markdown",
   "metadata": {},
   "source": [
    "## Customer item reorder rate"
   ]
  },
  {
   "cell_type": "code",
   "execution_count": null,
   "metadata": {},
   "outputs": [],
   "source": [
    "groupby_columns = ['user_id']\n",
    "agg_dict = {\n",
    "    'reordered': ['sum', 'count'],\n",
    "}\n",
    "user_reorder=user_items.groupby(groupby_columns).agg(agg_dict)\n",
    "user_reorder.columns=['reorder_times','total_times']\n",
    "user_reorder[\"reorder_rate\"]=user_reorder['reorder_times']/user_reorder['total_times']\n",
    "user_reorder=user_reorder[['reorder_rate',]]\n",
    "user_reorder"
   ]
  },
  {
   "cell_type": "markdown",
   "metadata": {},
   "source": [
    "## Concat all the tables and save as CSV file"
   ]
  },
  {
   "cell_type": "code",
   "execution_count": null,
   "metadata": {},
   "outputs": [],
   "source": [
    "customer = pd.concat([Num_orders,Q3,order_freq,user_reorder,customer_dow,order_period],axis=1)\n",
    "customer.head()\n",
    "customer.to_csv(\"Customer_features.csv\")"
   ]
  },
  {
   "cell_type": "markdown",
   "metadata": {
    "tags": []
   },
   "source": [
    "# Customer Clustering"
   ]
  },
  {
   "cell_type": "markdown",
   "metadata": {},
   "source": [
    "## Use customer dataset or read from csv file"
   ]
  },
  {
   "cell_type": "code",
   "execution_count": null,
   "metadata": {},
   "outputs": [],
   "source": [
    "try:\n",
    "    customer.head()\n",
    "except:\n",
    "    customer = pd.read_csv(\"Customer_features.csv\",index_col=\"user_id\")\n",
    "customer.head()"
   ]
  },
  {
   "cell_type": "markdown",
   "metadata": {},
   "source": [
    "## Split into customer_feature and shopping_habits"
   ]
  },
  {
   "cell_type": "code",
   "execution_count": null,
   "metadata": {},
   "outputs": [],
   "source": [
    "customer_feature = customer.iloc[:,:4].copy()\n",
    "c_shopping_habits = customer.iloc[:,4:].copy()"
   ]
  },
  {
   "cell_type": "code",
   "execution_count": null,
   "metadata": {},
   "outputs": [],
   "source": [
    "customer_feature.head()"
   ]
  },
  {
   "cell_type": "code",
   "execution_count": null,
   "metadata": {},
   "outputs": [],
   "source": [
    "c_shopping_habits.head()"
   ]
  },
  {
   "cell_type": "code",
   "execution_count": null,
   "metadata": {},
   "outputs": [],
   "source": [
    "customer_feature.corr()"
   ]
  },
  {
   "cell_type": "code",
   "execution_count": null,
   "metadata": {},
   "outputs": [],
   "source": [
    "c_shopping_habits.corr()"
   ]
  },
  {
   "cell_type": "markdown",
   "metadata": {
    "toc-hr-collapsed": true
   },
   "source": [
    "## K-Mean CLustering - Customer Feature"
   ]
  },
  {
   "cell_type": "markdown",
   "metadata": {},
   "source": [
    "### Standardize the variable"
   ]
  },
  {
   "cell_type": "code",
   "execution_count": null,
   "metadata": {},
   "outputs": [],
   "source": [
    "from sklearn.preprocessing import StandardScaler\n",
    "scaler = StandardScaler()\n",
    "std_customer_feature = scaler.fit_transform(customer_feature)"
   ]
  },
  {
   "cell_type": "markdown",
   "metadata": {},
   "source": [
    "### Applying Principle Component Analysis"
   ]
  },
  {
   "cell_type": "code",
   "execution_count": null,
   "metadata": {},
   "outputs": [],
   "source": [
    "from sklearn.decomposition import PCA\n",
    "pca = PCA()\n",
    "pca_customer_feature = pca.fit_transform(std_customer_feature)\n",
    "explained_variance= pca.explained_variance_ratio_\n",
    "explained_variance"
   ]
  },
  {
   "cell_type": "markdown",
   "metadata": {},
   "source": [
    "We can observe that 2 components can explain about 77% of the variance."
   ]
  },
  {
   "cell_type": "code",
   "execution_count": null,
   "metadata": {},
   "outputs": [],
   "source": [
    "pca0 = PCA(n_components=2)\n",
    "pca_customer_feature = pca0.fit_transform(std_customer_feature)"
   ]
  },
  {
   "cell_type": "markdown",
   "metadata": {},
   "source": [
    "### K-mean with PCA data\n",
    "#### Using the elbow method to find the optimal number of clusters"
   ]
  },
  {
   "cell_type": "code",
   "execution_count": null,
   "metadata": {},
   "outputs": [],
   "source": [
    "from sklearn.cluster import KMeans\n",
    "\n",
    "def find_num_clusters(data,max_cluster=10):\n",
    "    wcss = []\n",
    "    for i in range(1,max_cluster+1):\n",
    "        kmeans = KMeans(n_clusters=i,random_state=0)\n",
    "        kmeans.fit(data)\n",
    "        wcss.append(kmeans.inertia_) #measures how well the dataset was clustered by kmeans\n",
    "    return wcss"
   ]
  },
  {
   "cell_type": "code",
   "execution_count": null,
   "metadata": {},
   "outputs": [],
   "source": [
    "pca_num_clusters = find_num_clusters(pca_customer_feature)\n",
    "\n",
    "plt.plot(range(1,11),pca_num_clusters,marker='o')\n",
    "plt.title(\"The Elbow Method\")\n",
    "plt.xlabel(\"Number of Clusters\")\n",
    "plt.ylabel(\"WCSS\")\n",
    "plt.show()"
   ]
  },
  {
   "cell_type": "markdown",
   "metadata": {},
   "source": [
    "4 clusters is optimal choice for PCA data"
   ]
  },
  {
   "cell_type": "markdown",
   "metadata": {},
   "source": [
    "#### Applying the k-means to the PCA data"
   ]
  },
  {
   "cell_type": "code",
   "execution_count": null,
   "metadata": {},
   "outputs": [],
   "source": [
    "kmeans = KMeans(n_clusters=4,random_state=0)\n",
    "pca_kmeans = kmeans.fit_predict(pca_customer_feature) #compute cluster centers and predicts cluster index for each sample\n",
    "customer_feature[\"feature_groups\"]=pca_kmeans"
   ]
  },
  {
   "cell_type": "markdown",
   "metadata": {},
   "source": [
    "### Visualizing the clusters"
   ]
  },
  {
   "cell_type": "code",
   "execution_count": null,
   "metadata": {},
   "outputs": [],
   "source": [
    "customer_feature.columns"
   ]
  },
  {
   "cell_type": "code",
   "execution_count": null,
   "metadata": {},
   "outputs": [],
   "source": [
    "fig, ax = plt.subplots(1, 2, figsize=(18, 8))\n",
    "sns.scatterplot(x='total orders',y='avg_items_in_order',hue='feature_groups',data=customer_feature,palette='colorblind',ax=ax[0])\n",
    "sns.scatterplot(x='avg_days_since_prior',y='reorder_rate',hue='feature_groups',data=customer_feature,palette='colorblind',ax=ax[1])\n",
    "plt.show()"
   ]
  },
  {
   "cell_type": "markdown",
   "metadata": {
    "tags": [],
    "toc-hr-collapsed": true
   },
   "source": [
    "## K-Mean CLustering - Shopping habbits"
   ]
  },
  {
   "cell_type": "markdown",
   "metadata": {},
   "source": [
    "### Standardize the variable"
   ]
  },
  {
   "cell_type": "code",
   "execution_count": null,
   "metadata": {},
   "outputs": [],
   "source": [
    "scaler1 = StandardScaler()\n",
    "std_shophab = scaler1.fit_transform(c_shopping_habits)"
   ]
  },
  {
   "cell_type": "code",
   "execution_count": null,
   "metadata": {},
   "outputs": [],
   "source": [
    "std_shophab"
   ]
  },
  {
   "cell_type": "markdown",
   "metadata": {},
   "source": [
    "### Applying PCA"
   ]
  },
  {
   "cell_type": "code",
   "execution_count": null,
   "metadata": {},
   "outputs": [],
   "source": [
    "pca_shopping_habits = pca.fit_transform(std_shophab)\n",
    "explained_varianceSH = pca.explained_variance_ratio_\n",
    "explained_varianceSH"
   ]
  },
  {
   "cell_type": "code",
   "execution_count": null,
   "metadata": {},
   "outputs": [],
   "source": [
    "explained_varianceSH[0]+explained_varianceSH[1]+explained_varianceSH[2]+explained_varianceSH[3]+explained_varianceSH[4]+explained_varianceSH[5]+explained_varianceSH[6]"
   ]
  },
  {
   "cell_type": "markdown",
   "metadata": {},
   "source": [
    "We can observe that 7 components can explain 82.50% of the variance."
   ]
  },
  {
   "cell_type": "code",
   "execution_count": null,
   "metadata": {},
   "outputs": [],
   "source": [
    "pca1 = PCA(n_components=7)\n",
    "pca_c_shopping_habits = pca1.fit_transform(std_shophab)\n",
    "pca_c_shopping_habits"
   ]
  },
  {
   "cell_type": "markdown",
   "metadata": {},
   "source": [
    "### K-mean with PCA data\n",
    "#### Using the elbow method to find the optimal number of clusters"
   ]
  },
  {
   "cell_type": "code",
   "execution_count": null,
   "metadata": {},
   "outputs": [],
   "source": [
    "pca_num_clusters = find_num_clusters(pca_c_shopping_habits)\n",
    "\n",
    "plt.plot(range(1,11),pca_num_clusters,marker='o')\n",
    "plt.title(\"The Elbow Method\")\n",
    "plt.xlabel(\"Number of Clusters\")\n",
    "plt.ylabel(\"WCSS\")\n",
    "plt.show()"
   ]
  },
  {
   "cell_type": "markdown",
   "metadata": {},
   "source": [
    "4 clusters is optimal choice for PCA data"
   ]
  },
  {
   "cell_type": "markdown",
   "metadata": {},
   "source": [
    "#### Applying the k-means to the PCA data"
   ]
  },
  {
   "cell_type": "code",
   "execution_count": null,
   "metadata": {},
   "outputs": [],
   "source": [
    "kmeansSH = KMeans(n_clusters=4,random_state=0)\n",
    "pca_kmeansSH = kmeansSH.fit_predict(pca_c_shopping_habits) #compute cluster centers and predicts cluster index for each sample\n",
    "c_shopping_habits[\"habit_groups\"]=pca_kmeansSH"
   ]
  },
  {
   "cell_type": "markdown",
   "metadata": {
    "tags": [],
    "toc-hr-collapsed": true
   },
   "source": [
    "#### Visualizing the clusters"
   ]
  },
  {
   "cell_type": "code",
   "execution_count": null,
   "metadata": {},
   "outputs": [],
   "source": [
    "fig, ax = plt.subplots(1, 2, figsize=(18, 8))\n",
    "sns.scatterplot(x='Morning',y='Afternoon',hue='habit_groups',data=c_shopping_habits,palette='colorblind',ax=ax[0])\n",
    "sns.scatterplot(x='Evening',y='Midnight',hue='habit_groups',data=c_shopping_habits,palette='colorblind',ax=ax[1])\n",
    "plt.show()"
   ]
  },
  {
   "cell_type": "code",
   "execution_count": null,
   "metadata": {},
   "outputs": [],
   "source": [
    "shopping_habits_statistics = c_shopping_habits.groupby(['habit_groups']).mean()\n",
    "shopping_habits_statistics"
   ]
  },
  {
   "cell_type": "code",
   "execution_count": null,
   "metadata": {},
   "outputs": [],
   "source": [
    "day_time = list(shopping_habits_statistics.columns)\n",
    "shopping_habits_statistics= shopping_habits_statistics.reset_index()\n",
    "shopping_habits_st_long = pd.melt(shopping_habits_statistics,id_vars=['habit_groups'],value_vars=day_time)\n",
    "shopping_habits_st_long\n",
    "shopping_habits_st_long.columns = ['habit_group','day','value']"
   ]
  },
  {
   "cell_type": "markdown",
   "metadata": {},
   "source": [
    "# Product Analysis"
   ]
  },
  {
   "cell_type": "code",
   "execution_count": null,
   "metadata": {},
   "outputs": [],
   "source": [
    "customer_feature = customer_feature.reset_index()\n",
    "feature_group=customer_feature.loc[:,['user_id','feature_groups']]\n",
    "c_shopping_habits=c_shopping_habits.reset_index()\n",
    "habits_group=c_shopping_habits.loc[:,['user_id','habit_groups']]\n"
   ]
  },
  {
   "cell_type": "markdown",
   "metadata": {},
   "source": [
    "## Which Departments products are most popular?"
   ]
  },
  {
   "cell_type": "code",
   "execution_count": null,
   "metadata": {},
   "outputs": [],
   "source": [
    "statement = 'SELECT user_id, o.order_id, p.product_id, aisle_id, department  from orders o inner join order_details od on o.order_id=od.order_id inner join products p on od.product_id = p.product_id inner join departments d on p.department_id=d.department_id;'\n",
    "user_products=sql_data(statement)"
   ]
  },
  {
   "cell_type": "code",
   "execution_count": null,
   "metadata": {},
   "outputs": [],
   "source": [
    "user_products.head()"
   ]
  },
  {
   "cell_type": "code",
   "execution_count": null,
   "metadata": {},
   "outputs": [],
   "source": [
    "customer_products =pd.merge(user_products,feature_group,on='user_id')\n",
    "customer_products=pd.merge(customer_products,habits_group,on='user_id')"
   ]
  },
  {
   "cell_type": "code",
   "execution_count": null,
   "metadata": {},
   "outputs": [],
   "source": [
    "customer_products"
   ]
  },
  {
   "cell_type": "code",
   "execution_count": null,
   "metadata": {},
   "outputs": [],
   "source": [
    "department_orders = customer_products.groupby(['feature_groups','habit_groups','department']).agg({'user_id':'count'})\n",
    "department_orders = department_orders.reset_index()\n",
    "department_orders.columns=['feature_groups','habit_groups','department','num_of_orders']\n",
    "department_orders"
   ]
  },
  {
   "cell_type": "markdown",
   "metadata": {},
   "source": [
    "### Department by customer feature"
   ]
  },
  {
   "cell_type": "code",
   "execution_count": null,
   "metadata": {},
   "outputs": [],
   "source": [
    "department_rank = (department_orders[department_orders[\"feature_groups\"]==0].groupby(\"department\")[[\"num_of_orders\"]].sum())*100/(department_orders[department_orders[\"feature_groups\"]==0][[\"num_of_orders\"]].sum())\n",
    "department_rank.rename(columns={\"num_of_orders\":\"group \"+str(0)},inplace=True)\n",
    "for i in range(1,4):\n",
    "    department_temp = (department_orders[department_orders[\"feature_groups\"]==i].groupby(\"department\")[[\"num_of_orders\"]].sum())*100/(department_orders[department_orders[\"feature_groups\"]==i][[\"num_of_orders\"]].sum())\n",
    "    department_temp.rename(columns={\"num_of_orders\":\"group \"+str(i)},inplace=True)\n",
    "    department_rank=pd.concat([department_rank,department_temp],axis=1)"
   ]
  },
  {
   "cell_type": "code",
   "execution_count": null,
   "metadata": {},
   "outputs": [],
   "source": [
    "department_rank=department_rank.sort_values(by='group 0',ascending=False)\n",
    "department_rank.head()"
   ]
  },
  {
   "cell_type": "code",
   "execution_count": null,
   "metadata": {},
   "outputs": [],
   "source": [
    "fig, ax = plt.subplots(figsize=(10,4))\n",
    "sns.heatmap(department_rank.T,cmap=\"coolwarm\")\n",
    "plt.show()"
   ]
  },
  {
   "cell_type": "code",
   "execution_count": null,
   "metadata": {},
   "outputs": [],
   "source": [
    "group_name = list(department_rank.columns)\n",
    "department_rank= department_rank.reset_index()\n",
    "department_rank_long = pd.melt(department_rank,id_vars=['department'],value_vars=group_name)\n",
    "\n",
    "department_rank_long.columns = ['department','group_num','Percentage']\n",
    "department_rank_long"
   ]
  },
  {
   "cell_type": "code",
   "execution_count": null,
   "metadata": {},
   "outputs": [],
   "source": [
    "from matplotlib.patches import Patch\n",
    "\n",
    "place_cat = department_rank_long.department.unique()\n",
    "group_list = sorted(list(set(department_rank_long.group_num)))\n",
    "colors = sns.color_palette('husl', n_colors=21)\n",
    "cmap = dict(zip(place_cat, colors))\n",
    "\n",
    "# plot a subplot for each group_num\n",
    "plt.figure(figsize=(12, 18))\n",
    "for i, tod in enumerate(department_rank_long.group_num.unique(), 1):\n",
    "    data = department_rank_long[department_rank_long.group_num == tod].sort_values(['Percentage'], ascending=False)\n",
    "    plt.subplot(4, 1, i)\n",
    "    p = sns.barplot(x='department', y='Percentage', data=data, hue='department', palette=cmap,dodge=False)\n",
    "    p.legend_.remove()\n",
    "    plt.xticks(rotation=45,ha='right')\n",
    "    plt.title(f'{tod}')\n",
    "\n",
    "plt.tight_layout()\n",
    "patches = [Patch(color=v, label=k) for k, v in cmap.items()]\n",
    "plt.legend(handles=patches, bbox_to_anchor=(1.05, 5.5), loc='center left', borderaxespad=0)\n",
    "plt.show()"
   ]
  },
  {
   "cell_type": "markdown",
   "metadata": {},
   "source": [
    "### Department by shopping habits"
   ]
  },
  {
   "cell_type": "code",
   "execution_count": null,
   "metadata": {},
   "outputs": [],
   "source": [
    "habit_department_rank = (department_orders[department_orders[\"habit_groups\"]==0].groupby(\"department\")[[\"num_of_orders\"]].sum())*100/(department_orders[department_orders[\"habit_groups\"]==0][[\"num_of_orders\"]].sum())\n",
    "habit_department_rank.rename(columns={\"num_of_orders\":\"group \"+str(0)},inplace=True)\n",
    "for i in range(1,4):\n",
    "    department_temp = (department_orders[department_orders[\"habit_groups\"]==i].groupby(\"department\")[[\"num_of_orders\"]].sum())*100/(department_orders[department_orders[\"habit_groups\"]==i][[\"num_of_orders\"]].sum())\n",
    "    department_temp.rename(columns={\"num_of_orders\":\"group \"+str(i)},inplace=True)\n",
    "    habit_department_rank=pd.concat([habit_department_rank,department_temp],axis=1)"
   ]
  },
  {
   "cell_type": "code",
   "execution_count": null,
   "metadata": {},
   "outputs": [],
   "source": [
    "habit_department_rank=habit_department_rank.sort_values(by='group 0',ascending=False)\n",
    "habit_department_rank.head()"
   ]
  },
  {
   "cell_type": "code",
   "execution_count": null,
   "metadata": {},
   "outputs": [],
   "source": [
    "fig, ax = plt.subplots(figsize=(10,4))\n",
    "sns.heatmap(habit_department_rank.T,cmap=\"coolwarm\")\n",
    "plt.show()"
   ]
  },
  {
   "cell_type": "code",
   "execution_count": null,
   "metadata": {},
   "outputs": [],
   "source": [
    "group_name = list(habit_department_rank.columns)\n",
    "habit_department_rank= habit_department_rank.reset_index()\n",
    "habit_department_rank_long = pd.melt(habit_department_rank,id_vars=['department'],value_vars=group_name)\n",
    "\n",
    "habit_department_rank_long.columns = ['department','group_num','Percentage']\n",
    "habit_department_rank_long"
   ]
  },
  {
   "cell_type": "code",
   "execution_count": null,
   "metadata": {},
   "outputs": [],
   "source": [
    "place_cat = habit_department_rank_long.department.unique()\n",
    "colors = sns.color_palette('husl', n_colors=21)\n",
    "cmap = dict(zip(place_cat, colors))\n",
    "\n",
    "# plot a subplot for each group_num\n",
    "plt.figure(figsize=(12, 18))\n",
    "for i, tod in enumerate(habit_department_rank_long.group_num.unique(), 1):\n",
    "    data = habit_department_rank_long[habit_department_rank_long.group_num == tod].sort_values(['Percentage'], ascending=False)\n",
    "    plt.subplot(4, 1, i)\n",
    "    p = sns.barplot(x='department', y='Percentage', data=data, hue='department', palette=cmap,dodge=False)\n",
    "    p.legend_.remove()\n",
    "    plt.xticks(rotation=45,ha='right')\n",
    "    plt.title(f'{tod}')\n",
    "\n",
    "plt.tight_layout()\n",
    "patches = [Patch(color=v, label=k) for k, v in cmap.items()]\n",
    "plt.legend(handles=patches, bbox_to_anchor=(1.05, 5.5), loc='center left', borderaxespad=0)\n",
    "plt.show()"
   ]
  },
  {
   "cell_type": "markdown",
   "metadata": {},
   "source": [
    "## What are the top Five products people frequently buy in each group?"
   ]
  },
  {
   "cell_type": "code",
   "execution_count": null,
   "metadata": {},
   "outputs": [],
   "source": [
    "statement = 'SELECT user_id, o.order_id, p.product_id, product_name from orders o join order_details od on o.order_id=od.order_id inner join products p on od.product_id = p.product_id;'\n",
    "all_products = sql_data(statement)"
   ]
  },
  {
   "cell_type": "markdown",
   "metadata": {},
   "source": [
    "## What are the first items people put into the shopping cart"
   ]
  },
  {
   "cell_type": "code",
   "execution_count": null,
   "metadata": {},
   "outputs": [],
   "source": [
    "statement = 'SELECT user_id, o.order_id, p.product_id, product_name from orders o join order_details od on o.order_id=od.order_id inner join products p on od.product_id = p.product_id where add_to_cart_order=1;'\n",
    "first_items =sql_data(statement)"
   ]
  },
  {
   "cell_type": "code",
   "execution_count": null,
   "metadata": {},
   "outputs": [],
   "source": [
    "first_items.head()"
   ]
  },
  {
   "cell_type": "code",
   "execution_count": null,
   "metadata": {},
   "outputs": [],
   "source": [
    "cf_first_items =pd.merge(first_items,feature_group,on='user_id')\n",
    "\n",
    "cf_first_count = cf_first_items.groupby(['feature_groups','product_name'])['order_id'].count().reset_index()\n",
    "cf_first_count.columns =['feature_group','Product_name','Count']\n",
    "\n",
    "cf_first_count[\"RANK\"] = cf_first_count.groupby(\"feature_group\")[\"Count\"].rank(method=\"first\", ascending=False)\n",
    "cf_first_count.head()"
   ]
  },
  {
   "cell_type": "code",
   "execution_count": null,
   "metadata": {},
   "outputs": [],
   "source": [
    "cf_top10 = cf_first_count[cf_first_count['RANK']<=10].sort_values(['feature_group','RANK']).reset_index(drop=True)"
   ]
  },
  {
   "cell_type": "code",
   "execution_count": null,
   "metadata": {},
   "outputs": [],
   "source": [
    "cf_top10.head()"
   ]
  },
  {
   "cell_type": "code",
   "execution_count": null,
   "metadata": {},
   "outputs": [],
   "source": [
    "cf_top10 = cf_top10.pivot(index='RANK', columns='feature_group', values='Product_name')"
   ]
  },
  {
   "cell_type": "code",
   "execution_count": null,
   "metadata": {},
   "outputs": [],
   "source": [
    "cf_top10"
   ]
  }
 ],
 "metadata": {
  "kernelspec": {
   "display_name": "Python 3",
   "language": "python",
   "name": "python3"
  },
  "language_info": {
   "codemirror_mode": {
    "name": "ipython",
    "version": 3
   },
   "file_extension": ".py",
   "mimetype": "text/x-python",
   "name": "python",
   "nbconvert_exporter": "python",
   "pygments_lexer": "ipython3",
   "version": "3.8.5"
  },
  "toc-autonumbering": false
 },
 "nbformat": 4,
 "nbformat_minor": 5
}
